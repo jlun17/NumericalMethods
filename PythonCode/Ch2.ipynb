{
 "cells": [
  {
   "cell_type": "markdown",
   "metadata": {},
   "source": [
    "## Problem 17"
   ]
  },
  {
   "cell_type": "code",
   "execution_count": 57,
   "metadata": {
    "collapsed": true
   },
   "outputs": [],
   "source": [
    "from gaussElimin import gaussElimin\n",
    "import numpy as np\n",
    "from gaussPivot import gaussPivot"
   ]
  },
  {
   "cell_type": "code",
   "execution_count": 60,
   "metadata": {
    "collapsed": true
   },
   "outputs": [],
   "source": [
    "def f(x):\n",
    "    return np.array([1, x, x**2, x**3])"
   ]
  },
  {
   "cell_type": "code",
   "execution_count": 64,
   "metadata": {},
   "outputs": [
    {
     "name": "stdout",
     "output_type": "stream",
     "text": [
      "[[                   1                    0                    0\n",
      "                     0                    0]\n",
      " [                   1                    1                    1\n",
      "                     1                    1]\n",
      " [                   1                    3                  -15\n",
      "                     3                   78]\n",
      " [                   1                    5                  -15\n",
      "  -9223372036854775808                  360]\n",
      " [                   1                    6                   30\n",
      "                    90                   90]]\n",
      "[  1.00000000e+01   2.20000000e+01   3.00000000e+00   7.91467586e-18]\n",
      "[[                   1                    0                    0\n",
      "                     0                    0]\n",
      " [                   1                    1                    1\n",
      "                     1                    1]\n",
      " [                   1                    3                  -18\n",
      "                     0                   78]\n",
      " [                   1                    5                  -20\n",
      "  -9223372036854775808                  360]\n",
      " [                   1                    6                   30\n",
      "                    90                   90]]\n"
     ]
    },
    {
     "ename": "ValueError",
     "evalue": "shapes (5,5) and (4,) not aligned: 5 (dim 1) != 4 (dim 0)",
     "output_type": "error",
     "traceback": [
      "\u001b[0;31m---------------------------------------------------------------------------\u001b[0m",
      "\u001b[0;31mValueError\u001b[0m                                Traceback (most recent call last)",
      "\u001b[0;32m<ipython-input-64-d69de432c9c0>\u001b[0m in \u001b[0;36m<module>\u001b[0;34m()\u001b[0m\n\u001b[1;32m      6\u001b[0m \u001b[0mprint\u001b[0m\u001b[0;34m(\u001b[0m\u001b[0mx\u001b[0m\u001b[0;34m)\u001b[0m\u001b[0;34m\u001b[0m\u001b[0m\n\u001b[1;32m      7\u001b[0m \u001b[0mprint\u001b[0m\u001b[0;34m(\u001b[0m\u001b[0mc\u001b[0m\u001b[0;34m)\u001b[0m\u001b[0;34m\u001b[0m\u001b[0m\n\u001b[0;32m----> 8\u001b[0;31m \u001b[0mprint\u001b[0m\u001b[0;34m(\u001b[0m\u001b[0;34m\"ax = b\"\u001b[0m\u001b[0;34m,\u001b[0m \u001b[0mnp\u001b[0m\u001b[0;34m.\u001b[0m\u001b[0mmatmul\u001b[0m\u001b[0;34m(\u001b[0m\u001b[0mc\u001b[0m\u001b[0;34m,\u001b[0m \u001b[0mx\u001b[0m\u001b[0;34m)\u001b[0m\u001b[0;34m)\u001b[0m\u001b[0;34m\u001b[0m\u001b[0m\n\u001b[0m",
      "\u001b[0;31mValueError\u001b[0m: shapes (5,5) and (4,) not aligned: 5 (dim 1) != 4 (dim 0)"
     ]
    }
   ],
   "source": [
    "a = np.array([f(0), f(1), f(2), f(3)])\n",
    "a = c\n",
    "print(a)\n",
    "b = np.array([10.0, 35.0, 31.0, 2.0])\n",
    "x = gaussElimin(a, b)\n",
    "print(x)\n",
    "print(c)\n",
    "print(\"ax = b\", np.matmul(c, x))"
   ]
  },
  {
   "cell_type": "markdown",
   "metadata": {},
   "source": [
    "## Problem 18"
   ]
  },
  {
   "cell_type": "code",
   "execution_count": 54,
   "metadata": {
    "collapsed": true
   },
   "outputs": [],
   "source": [
    "# def f1(x):\n",
    "#     return np.array([1, x, x**2, x**3, x**4])"
   ]
  },
  {
   "cell_type": "code",
   "execution_count": 55,
   "metadata": {},
   "outputs": [],
   "source": [
    "# a = np.array([f1(0), f1(1), f1(3), f1(5), f1(6)])\n",
    "# c = a\n",
    "# print(\"a\\n\", a)\n",
    "# b = np.array([-1, 1, 3, 2, -2])\n",
    "# print(\"b\\n\", b)\n",
    "# x = gaussElimin(a, b)\n",
    "# print(\"x\\n\", x)\n",
    "# print(\"ax = b\", np.matmul(c, x))\n"
   ]
  },
  {
   "cell_type": "code",
   "execution_count": 56,
   "metadata": {},
   "outputs": [],
   "source": [
    "# def gaussElimin(a,b):\n",
    "#     n = len(b)\n",
    "#   # Elimination Phase\n",
    "#     for k in range(0,n-1):\n",
    "#         for i in range(k+1,n):\n",
    "#            if a[i,k] != 0.0:\n",
    "#                lam = a [i,k]/a[k,k]\n",
    "#                ##print(lam)\n",
    "#                a[i,k+1:n] = a[i,k+1:n] - lam*a[k,k+1:n]\n",
    "#                b[i] = b[i] - lam*b[k]\n",
    "#   # Back substitution\n",
    "#     for k in range(n-1,-1,-1):\n",
    "#         b[k] = (b[k] - np.dot(a[k,k+1:n],b[k+1:n]))/a[k,k]\n",
    "#     return b"
   ]
  },
  {
   "cell_type": "code",
   "execution_count": null,
   "metadata": {
    "collapsed": true
   },
   "outputs": [],
   "source": []
  }
 ],
 "metadata": {
  "kernelspec": {
   "display_name": "Python 3",
   "language": "python",
   "name": "python3"
  },
  "language_info": {
   "codemirror_mode": {
    "name": "ipython",
    "version": 3
   },
   "file_extension": ".py",
   "mimetype": "text/x-python",
   "name": "python",
   "nbconvert_exporter": "python",
   "pygments_lexer": "ipython3",
   "version": "3.6.6"
  }
 },
 "nbformat": 4,
 "nbformat_minor": 2
}
