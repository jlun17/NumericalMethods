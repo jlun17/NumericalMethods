{
 "cells": [
  {
   "cell_type": "code",
   "execution_count": 42,
   "metadata": {},
   "outputs": [],
   "source": [
    "import numpy as np\n",
    "import math\n",
    "from ridder import *\n",
    "from rootsearch import *\n",
    "from newtonRaphson import *\n",
    "from newtonRaphson2 import *"
   ]
  },
  {
   "cell_type": "markdown",
   "metadata": {},
   "source": [
    "# Problem 10"
   ]
  },
  {
   "cell_type": "code",
   "execution_count": 24,
   "metadata": {},
   "outputs": [],
   "source": [
    "def RiddersMethod(f, a, b, dx=False):\n",
    "    if(dx == False):\n",
    "        dx = (b-a) / 50\n",
    "    solutions = []\n",
    "    x1 = a\n",
    "    x2 = b\n",
    "    while(x1 != None):\n",
    "        x1, x2 = rootsearch(f, x1, x2, dx)\n",
    "        if(x1 != None):\n",
    "            solutions.append(ridder(f, x1, x2))\n",
    "        x1 = x2\n",
    "        x2 = b\n",
    "    return solutions"
   ]
  },
  {
   "cell_type": "code",
   "execution_count": 25,
   "metadata": {},
   "outputs": [],
   "source": [
    "def f(x):\n",
    "    return (x*np.sin(x)) + (3*np.cos(x)) - x"
   ]
  },
  {
   "cell_type": "code",
   "execution_count": 26,
   "metadata": {},
   "outputs": [
    {
     "name": "stdout",
     "output_type": "stream",
     "text": [
      "[-4.712388980384696, -3.2088387319803764, 1.5707963267948963]\n"
     ]
    }
   ],
   "source": [
    "print(RiddersMethod(f, -6, 6, 1))"
   ]
  },
  {
   "cell_type": "markdown",
   "metadata": {},
   "source": [
    "# Problem 11"
   ]
  },
  {
   "cell_type": "code",
   "execution_count": 27,
   "metadata": {},
   "outputs": [],
   "source": [
    "def NewtonRaphson(f, df, a, b, dx = False):\n",
    "    if(dx == False):\n",
    "        dx = (b-a) / 50\n",
    "    solutions = []\n",
    "    x1 = a\n",
    "    x2 = b\n",
    "    while(x1 != None):\n",
    "        x1, x2 = rootsearch(f, x1, x2, dx)\n",
    "        if(x1 != None):\n",
    "            solutions.append(newtonRaphson(f, df, x1, x2))\n",
    "        x1 = x2\n",
    "        x2 = b\n",
    "    return solutions"
   ]
  },
  {
   "cell_type": "code",
   "execution_count": 28,
   "metadata": {},
   "outputs": [],
   "source": [
    "def df(x):\n",
    "    return np.sin(x) + x*np.cos(x) - 3*np.sin(x) - 1"
   ]
  },
  {
   "cell_type": "code",
   "execution_count": 29,
   "metadata": {},
   "outputs": [
    {
     "name": "stdout",
     "output_type": "stream",
     "text": [
      "[-4.71238898038469, -3.2088387319804816, 1.5707963267948966]\n"
     ]
    }
   ],
   "source": [
    "print(NewtonRaphson(f, df, -6, 6, 1))"
   ]
  },
  {
   "cell_type": "markdown",
   "metadata": {},
   "source": [
    "# Problem 14"
   ]
  },
  {
   "cell_type": "code",
   "execution_count": 30,
   "metadata": {},
   "outputs": [],
   "source": [
    "def f(x):\n",
    "    return np.sin(x) - 0.1*x\n",
    "\n",
    "def df(x):\n",
    "    return np.cos(x) - 0.1"
   ]
  },
  {
   "cell_type": "code",
   "execution_count": 31,
   "metadata": {},
   "outputs": [
    {
     "name": "stdout",
     "output_type": "stream",
     "text": [
      "[0, 2.852341894450092, 7.068174358095818, 8.423203932360492]\n"
     ]
    }
   ],
   "source": [
    "print(NewtonRaphson(f, df, 0, 10, 1))"
   ]
  },
  {
   "cell_type": "markdown",
   "metadata": {},
   "source": [
    "# Problem 23"
   ]
  },
  {
   "cell_type": "code",
   "execution_count": 32,
   "metadata": {},
   "outputs": [],
   "source": [
    "def f(x):\n",
    "    return np.sqrt(4-(x-2)**2) + np.sqrt(4-x**2) - 3"
   ]
  },
  {
   "cell_type": "code",
   "execution_count": 38,
   "metadata": {},
   "outputs": [],
   "source": [
    "def g(x):\n",
    "    return np.sqrt(4-(x-2)**2)"
   ]
  },
  {
   "cell_type": "code",
   "execution_count": 40,
   "metadata": {},
   "outputs": [
    {
     "name": "stdout",
     "output_type": "stream",
     "text": [
      "x = [0.27942331 1.72057669]\n",
      "y = [1.01961554 1.98038446]\n"
     ]
    }
   ],
   "source": [
    "roots = np.array(RiddersMethod(f, 0.1, 1.9))\n",
    "print(\"x =\", roots)\n",
    "print(\"y =\", g(roots))"
   ]
  },
  {
   "cell_type": "markdown",
   "metadata": {},
   "source": [
    "# Problem 26"
   ]
  },
  {
   "cell_type": "code",
   "execution_count": 41,
   "metadata": {},
   "outputs": [],
   "source": [
    "def f(x):\n",
    "    a = (8.21 - x[0])**2 + (-x[1])**2 - x[2]**2\n",
    "    b = (0.34 - x[0])**2 + (6.62-x[1])**2 - x[2]**2\n",
    "    c = (5.96 - x[0])**2 + (-1.12-x[1])**2 - x[2]**2\n",
    "    return np.array([a, b, c])"
   ]
  },
  {
   "cell_type": "code",
   "execution_count": 43,
   "metadata": {},
   "outputs": [
    {
     "name": "stdout",
     "output_type": "stream",
     "text": [
      "[ 4.83010565  3.96992168 -5.21382431]\n"
     ]
    }
   ],
   "source": [
    "print(newtonRaphson2(f, [0, 0, 0]))"
   ]
  },
  {
   "cell_type": "code",
   "execution_count": null,
   "metadata": {},
   "outputs": [],
   "source": []
  }
 ],
 "metadata": {
  "kernelspec": {
   "display_name": "Python 3",
   "language": "python",
   "name": "python3"
  },
  "language_info": {
   "codemirror_mode": {
    "name": "ipython",
    "version": 3
   },
   "file_extension": ".py",
   "mimetype": "text/x-python",
   "name": "python",
   "nbconvert_exporter": "python",
   "pygments_lexer": "ipython3",
   "version": "3.6.10"
  }
 },
 "nbformat": 4,
 "nbformat_minor": 4
}
