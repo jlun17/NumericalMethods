{
 "cells": [
  {
   "cell_type": "code",
   "execution_count": 1,
   "metadata": {},
   "outputs": [],
   "source": [
    "from numpy import array, zeros\n",
    "from gaussElimin import *"
   ]
  },
  {
   "cell_type": "code",
   "execution_count": 2,
   "metadata": {
    "collapsed": true
   },
   "outputs": [],
   "source": [
    "def vandermonde(v):\n",
    "    n = len(v)\n",
    "    a = zeros((n, n))\n",
    "    for i in range(n):\n",
    "        a[:,i] = v**(n-i-1)\n",
    "    return a"
   ]
  },
  {
   "cell_type": "code",
   "execution_count": 3,
   "metadata": {},
   "outputs": [
    {
     "name": "stdout",
     "output_type": "stream",
     "text": [
      "[[  1.        1.        1.        1.        1.        1.     ]\n",
      " [  2.48832   2.0736    1.728     1.44      1.2       1.     ]\n",
      " [  5.37824   3.8416    2.744     1.96      1.4       1.     ]\n",
      " [ 10.48576   6.5536    4.096     2.56      1.6       1.     ]\n",
      " [ 18.89568  10.4976    5.832     3.24      1.8       1.     ]\n",
      " [ 32.       16.        8.        4.        2.        1.     ]]\n"
     ]
    }
   ],
   "source": [
    "v = array([1.0, 1.2, 1.4, 1.6, 1.8, 2.0])\n",
    "a = vandermonde(v)\n",
    "print(a)"
   ]
  },
  {
   "cell_type": "code",
   "execution_count": 4,
   "metadata": {},
   "outputs": [
    {
     "name": "stdout",
     "output_type": "stream",
     "text": [
      "[   416.66666667  -3125.00000004   9250.00000012 -13500.00000017\n",
      "   9709.33333345  -2751.00000003]\n"
     ]
    }
   ],
   "source": [
    "b = array([0.0, 1.0, 0.0, 1.0, 0.0, 1.0])\n",
    "x = gaussElimin(a, b)\n",
    "print(x)"
   ]
  },
  {
   "cell_type": "code",
   "execution_count": null,
   "metadata": {
    "collapsed": true
   },
   "outputs": [],
   "source": []
  }
 ],
 "metadata": {
  "kernelspec": {
   "display_name": "Python 3",
   "language": "python",
   "name": "python3"
  },
  "language_info": {
   "codemirror_mode": {
    "name": "ipython",
    "version": 3
   },
   "file_extension": ".py",
   "mimetype": "text/x-python",
   "name": "python",
   "nbconvert_exporter": "python",
   "pygments_lexer": "ipython3",
   "version": "3.6.6"
  }
 },
 "nbformat": 4,
 "nbformat_minor": 2
}
