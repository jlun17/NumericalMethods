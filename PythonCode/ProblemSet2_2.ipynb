{
 "cells": [
  {
   "cell_type": "code",
   "execution_count": 1,
   "metadata": {
    "collapsed": true
   },
   "outputs": [],
   "source": [
    "import numpy as np\n",
    "from gaussPivot import gaussPivot\n",
    "from gaussElimin import gaussElimin"
   ]
  },
  {
   "cell_type": "markdown",
   "metadata": {},
   "source": [
    "# Problem 17"
   ]
  },
  {
   "cell_type": "code",
   "execution_count": 10,
   "metadata": {},
   "outputs": [
    {
     "name": "stdout",
     "output_type": "stream",
     "text": [
      "R = 5.0\n",
      "i = [ 2.82926829  1.26829268  4.97560976]\n",
      "R = 10.0\n",
      "i = [ 2.66666667  1.33333333  4.88888889]\n",
      "R = 20.0\n",
      "i = [ 2.4516129   1.41935484  4.77419355]\n"
     ]
    }
   ],
   "source": [
    "r = [5.0, 10.0, 20.0]\n",
    "for R in r:\n",
    "    a = np.array([[50.0+R, -R, -30.0],\n",
    "                 [-R, 65.0+R, -15.0],\n",
    "                 [-30.0, -15.0, 45.0]])\n",
    "    b = np.array([0.0, 0.0, 120.0])\n",
    "    x = gaussPivot(a, b)\n",
    "    print(\"R =\", R)\n",
    "    print(\"i =\", x)"
   ]
  },
  {
   "cell_type": "markdown",
   "metadata": {},
   "source": [
    "# Problem 18"
   ]
  },
  {
   "cell_type": "code",
   "execution_count": 11,
   "metadata": {},
   "outputs": [
    {
     "name": "stdout",
     "output_type": "stream",
     "text": [
      "i = [ 8.36478985  5.32910389  5.42426646  2.41712926]\n"
     ]
    }
   ],
   "source": [
    "a = np.array([[80.0, -50.0, -30.0, 0.0],\n",
    "             [-50.0, 100.0, -10.0, -25.0],\n",
    "             [-30.0, -10.0, 65.0, -20.0],\n",
    "             [0.0, -25.0, -20.0, 100.0]])\n",
    "b = np.array([240.0, 0.0, 0.0, 0.0])\n",
    "x = gaussPivot(a, b)\n",
    "print(\"i =\", x)"
   ]
  },
  {
   "cell_type": "markdown",
   "metadata": {},
   "source": [
    "# Problem 19"
   ]
  },
  {
   "cell_type": "code",
   "execution_count": 34,
   "metadata": {
    "collapsed": true
   },
   "outputs": [],
   "source": [
    "def f(n):\n",
    "    a = np.zeros([n, n])\n",
    "    for i in range(n):\n",
    "        for j in range(n):\n",
    "            a[i, j] = (i + j)**2\n",
    "    b = np.zeros(n)\n",
    "    for i in range(n):\n",
    "        b[i] = np.sum(a[i])\n",
    "    x = gaussPivot(a, b)\n",
    "    return x"
   ]
  },
  {
   "cell_type": "code",
   "execution_count": 35,
   "metadata": {},
   "outputs": [
    {
     "name": "stdout",
     "output_type": "stream",
     "text": [
      "n = 2\n",
      "solution = [ 1.  1.]\n",
      "n = 3\n",
      "solution = [ 1.  1.  1.]\n",
      "n = 4\n",
      "Matrix is singular\n",
      "Press return to exit\n"
     ]
    },
    {
     "ename": "SystemExit",
     "evalue": "0",
     "output_type": "error",
     "traceback": [
      "An exception has occurred, use %tb to see the full traceback.\n",
      "\u001b[0;31mSystemExit\u001b[0m\u001b[0;31m:\u001b[0m 0\n"
     ]
    },
    {
     "name": "stderr",
     "output_type": "stream",
     "text": [
      "/Users/john/anaconda/lib/python3.6/site-packages/IPython/core/interactiveshell.py:2889: UserWarning: To exit: use 'exit', 'quit', or Ctrl-D.\n",
      "  warn(\"To exit: use 'exit', 'quit', or Ctrl-D.\", stacklevel=1)\n"
     ]
    }
   ],
   "source": [
    "N = np.array([2, 3, 4])\n",
    "for n in N:\n",
    "    print('n =', n)\n",
    "    print('solution =', f(n))"
   ]
  },
  {
   "cell_type": "markdown",
   "metadata": {},
   "source": [
    "# Problem 20"
   ]
  },
  {
   "cell_type": "code",
   "execution_count": 2,
   "metadata": {},
   "outputs": [
    {
     "name": "stdout",
     "output_type": "stream",
     "text": [
      "c = [ 19.72222222  19.44444444  18.33333333  17.          16.        ]\n"
     ]
    }
   ],
   "source": [
    "a = np.array([[-8.0, 4.0, 0.0, 0.0, 0.0],\n",
    "            [8.0, -10.0, 2.0, 0.0, 0.0],\n",
    "             [0.0, 6.0, -11.0, 5.0, 0.0],\n",
    "             [0.0, 0.0, 3.0, -7.0, 4.0],\n",
    "             [0.0, 0.0, 0.0, 2.0, -4.0]])\n",
    "b = np.array([-80.0, 0.0, 0.0, 0.0, -30.0])\n",
    "c = gaussPivot(a, b)\n",
    "print('c =', c)"
   ]
  },
  {
   "cell_type": "markdown",
   "metadata": {
    "collapsed": true
   },
   "source": [
    "# Problem 21"
   ]
  },
  {
   "cell_type": "code",
   "execution_count": 4,
   "metadata": {},
   "outputs": [
    {
     "name": "stdout",
     "output_type": "stream",
     "text": [
      "c = [ 30.55555556  33.33333333  30.55555556  35.41666667]\n"
     ]
    }
   ],
   "source": [
    "a = np.array([[-6.0, 4.0, 0.0, 0.0],\n",
    "             [0.0, -7.0, 3.0, 4.0],\n",
    "             [4.0, 0.0, -4.0, 0.0],\n",
    "             [2.0, 0.0, 1.0, -4.0]])\n",
    "b = np.array([-50.0, 0.0, 0.0, -50.0])\n",
    "c = gaussPivot(a, b)\n",
    "print('c =', c)"
   ]
  },
  {
   "cell_type": "code",
   "execution_count": null,
   "metadata": {
    "collapsed": true
   },
   "outputs": [],
   "source": []
  }
 ],
 "metadata": {
  "kernelspec": {
   "display_name": "Python 3",
   "language": "python",
   "name": "python3"
  },
  "language_info": {
   "codemirror_mode": {
    "name": "ipython",
    "version": 3
   },
   "file_extension": ".py",
   "mimetype": "text/x-python",
   "name": "python",
   "nbconvert_exporter": "python",
   "pygments_lexer": "ipython3",
   "version": "3.6.6"
  }
 },
 "nbformat": 4,
 "nbformat_minor": 2
}
