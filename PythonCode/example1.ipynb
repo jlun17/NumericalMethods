{
 "cells": [
  {
   "cell_type": "code",
   "execution_count": 2,
   "metadata": {
    "collapsed": true
   },
   "outputs": [],
   "source": [
    "from gaussPivot import *\n",
    "import numpy as np"
   ]
  },
  {
   "cell_type": "code",
   "execution_count": 6,
   "metadata": {},
   "outputs": [
    {
     "name": "stdout",
     "output_type": "stream",
     "text": [
      "The solution is [ 1.4  1.8  4.8  5.6  5.4]\n"
     ]
    }
   ],
   "source": [
    "a = np.array([[2., -1., 0., 0., 0.],\n",
    "             [-1., 4., -1., 0., 0.], \n",
    "             [0., -1., 4., -1., -2.], \n",
    "             [0., 0., -1., 2., -1.], \n",
    "             [0., 0., -2., -1., 3.]])\n",
    "b = np.array([1., 1., 1., 1., 1.])\n",
    "x = gaussPivot(a, b)\n",
    "print(\"The solution is\", x)"
   ]
  },
  {
   "cell_type": "code",
   "execution_count": null,
   "metadata": {
    "collapsed": true
   },
   "outputs": [],
   "source": []
  }
 ],
 "metadata": {
  "kernelspec": {
   "display_name": "Python 3",
   "language": "python",
   "name": "python3"
  },
  "language_info": {
   "codemirror_mode": {
    "name": "ipython",
    "version": 3
   },
   "file_extension": ".py",
   "mimetype": "text/x-python",
   "name": "python",
   "nbconvert_exporter": "python",
   "pygments_lexer": "ipython3",
   "version": "3.6.6"
  }
 },
 "nbformat": 4,
 "nbformat_minor": 2
}
