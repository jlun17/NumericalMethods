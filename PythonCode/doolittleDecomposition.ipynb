{
 "cells": [
  {
   "cell_type": "code",
   "execution_count": 16,
   "metadata": {
    "collapsed": true
   },
   "outputs": [],
   "source": [
    "import numpy as np\n",
    "from scipy.linalg import hilbert"
   ]
  },
  {
   "cell_type": "code",
   "execution_count": 116,
   "metadata": {},
   "outputs": [],
   "source": [
    "def doolittleDecomp(n):\n",
    "    u = np.array(hilbert(n))\n",
    "    l = np.zeros([n, n])\n",
    "    \n",
    "    b = np.zeros(n)\n",
    "    for i in range(n):\n",
    "        sum = 0\n",
    "        for j in range(n):\n",
    "            sum += u[i, j]\n",
    "        b[i] = sum\n",
    "    \n",
    "    for i in range(n):\n",
    "        l[i, i] = 1\n",
    "\n",
    "    ## LU decomp\n",
    "    for k in range(n-1):\n",
    "        for i in range(k+1, n):\n",
    "            lam = u[i, k] / u[k, k]\n",
    "            u[i, k:n] = u[i, k:n] - (lam * u[k, k:n])\n",
    "            l[i, k] = lam\n",
    "     \n",
    "    ## Ly = b\n",
    "    y = np.zeros(n)\n",
    "    for k in range(n):\n",
    "        y[k] = (b[k] - np.dot(l[k, 0:k], y[0:k])) / l[k, k]\n",
    "        \n",
    "    ## Ux = y\n",
    "    x = np.zeros(n)\n",
    "    for k in range(n-1, -1, -1):\n",
    "        x[k] = (y[k] - np.dot(u[k, k+1:n], x[k+1:n])) / u[k, k]\n",
    "    return x"
   ]
  },
  {
   "cell_type": "code",
   "execution_count": 130,
   "metadata": {},
   "outputs": [
    {
     "name": "stdout",
     "output_type": "stream",
     "text": [
      "[ 1.  1.  1.  1.  1.  1.]\n"
     ]
    }
   ],
   "source": [
    "print(doolittleDecomp(6))"
   ]
  },
  {
   "cell_type": "code",
   "execution_count": null,
   "metadata": {
    "collapsed": true
   },
   "outputs": [],
   "source": []
  }
 ],
 "metadata": {
  "kernelspec": {
   "display_name": "Python 3",
   "language": "python",
   "name": "python3"
  },
  "language_info": {
   "codemirror_mode": {
    "name": "ipython",
    "version": 3
   },
   "file_extension": ".py",
   "mimetype": "text/x-python",
   "name": "python",
   "nbconvert_exporter": "python",
   "pygments_lexer": "ipython3",
   "version": "3.6.6"
  }
 },
 "nbformat": 4,
 "nbformat_minor": 2
}
