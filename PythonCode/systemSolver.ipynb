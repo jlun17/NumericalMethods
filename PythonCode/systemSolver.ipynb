{
 "cells": [
  {
   "cell_type": "code",
   "execution_count": 3,
   "metadata": {
    "collapsed": true
   },
   "outputs": [],
   "source": [
    "import numpy as np"
   ]
  },
  {
   "cell_type": "code",
   "execution_count": 18,
   "metadata": {
    "collapsed": true
   },
   "outputs": [],
   "source": [
    "## My stuff (also from board lol)\n",
    "def solver(a, b):\n",
    "    n = len(a)\n",
    "    x = np.zeros(n)\n",
    "    \n",
    "    ## Elimination\n",
    "    for k in range(n-1): ## n-1 pivots\n",
    "        for i in range(k+1, n): ## gets zeros below kth pivot\n",
    "            lam = a[i, k] / a[k, k]\n",
    "            a[i, k:n] = a[i, k:n] - (lam * a[k, k:n])\n",
    "            b[i] = b[i] - (lam * b[k])\n",
    "            \n",
    "    ## Back Substution\n",
    "    for k in range(n-1, -1, -1):\n",
    "        x[k] = (b[k] - np.dot(a[k, k+1:n], x[k+1:n])) / a[k, k]\n",
    "        \n",
    "    return x"
   ]
  },
  {
   "cell_type": "code",
   "execution_count": 37,
   "metadata": {
    "collapsed": true
   },
   "outputs": [],
   "source": [
    "## From board\n",
    "def gaussElim(a, b):\n",
    "    n = len(b)\n",
    "\n",
    "    ## Elimination\n",
    "    for k in range(n-1):\n",
    "        for i in range(k+1, n):\n",
    "            if(a[i, k] != 0.0):\n",
    "                lam = a[i, k] / a[k, k]\n",
    "                a[i, k+1:n] = a[i, k+1:n] - (lam * a[k, k+1:n]) # Difference\n",
    "                b[i] = b[i] - (lam * b[k])\n",
    "                \n",
    "    ## Back Substution\n",
    "    for k in range(n-1, -1, -1):\n",
    "        b[k] = (b[k] - np.dot(a[k, k+1:n], b[k+1:n])) / a[k, k] # Difference\n",
    "    return b"
   ]
  },
  {
   "cell_type": "code",
   "execution_count": 35,
   "metadata": {
    "collapsed": true
   },
   "outputs": [],
   "source": [
    "## From gaussElim\n",
    "def test(a, b):\n",
    "    n = len(b)\n",
    "  # Elimination Phase\n",
    "    for k in range(0,n-1):\n",
    "        for i in range(k+1,n):\n",
    "           if a[i,k] != 0.0:\n",
    "               lam = a [i,k]/a[k,k]\n",
    "               a[i,k+1:n] = a[i,k+1:n] - lam*a[k,k+1:n]\n",
    "               b[i] = b[i] - lam*b[k]\n",
    "  # Back substitution\n",
    "    for k in range(n-1,-1,-1):\n",
    "        b[k] = (b[k] - np.dot(a[k,k+1:n],b[k+1:n]))/a[k,k]\n",
    "    return b"
   ]
  },
  {
   "cell_type": "code",
   "execution_count": 36,
   "metadata": {},
   "outputs": [
    {
     "name": "stdout",
     "output_type": "stream",
     "text": [
      "[ 0.425   0.0375]\n",
      "[0 0]\n",
      "[0 0]\n"
     ]
    }
   ],
   "source": [
    "a = np.array([[5, 50], [10, 20]])\n",
    "b = np.array([4, 5])\n",
    "print(solver(a, b))\n",
    "print(gaussElim(a, b))\n",
    "print(test(a, b))"
   ]
  },
  {
   "cell_type": "code",
   "execution_count": null,
   "metadata": {
    "collapsed": true
   },
   "outputs": [],
   "source": []
  }
 ],
 "metadata": {
  "kernelspec": {
   "display_name": "Python 3",
   "language": "python",
   "name": "python3"
  },
  "language_info": {
   "codemirror_mode": {
    "name": "ipython",
    "version": 3
   },
   "file_extension": ".py",
   "mimetype": "text/x-python",
   "name": "python",
   "nbconvert_exporter": "python",
   "pygments_lexer": "ipython3",
   "version": "3.6.6"
  }
 },
 "nbformat": 4,
 "nbformat_minor": 2
}
