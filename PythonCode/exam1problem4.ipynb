{
 "cells": [
  {
   "cell_type": "code",
   "execution_count": 53,
   "metadata": {
    "collapsed": true
   },
   "outputs": [],
   "source": [
    "import numpy as np\n",
    "from LUdecomp5 import *"
   ]
  },
  {
   "cell_type": "code",
   "execution_count": 54,
   "metadata": {
    "collapsed": true
   },
   "outputs": [],
   "source": [
    "def setA():\n",
    "    a = np.zeros([20, 20])\n",
    "    a[0, 0] = 7.0\n",
    "    a[0, 1] = -4.0\n",
    "    a[0, 2] = 1.0\n",
    "    a[1, 0] = -4.0\n",
    "    a[1, 1] = 6.0\n",
    "    a[1, 2] = -4.0\n",
    "    a[1, 3] = 1.0\n",
    "    for i in range(2, 18):\n",
    "        a[i, i-2] = 1.0\n",
    "        a[i, i-1] = -4\n",
    "        a[i, i] = 6.0\n",
    "        a[i, i+1] = -4.0\n",
    "        a[i, i+2] = 1.0\n",
    "    a[18, 16] = 1.0\n",
    "    a[18, 17] = -4.0\n",
    "    a[18, 18] = 6.0\n",
    "    a[18, 19] = -4.0\n",
    "    a[19, 17] = 1.0\n",
    "    a[19, 18] = -4.0\n",
    "    a[19, 19] = 7.0\n",
    "    return a"
   ]
  },
  {
   "cell_type": "code",
   "execution_count": 55,
   "metadata": {},
   "outputs": [
    {
     "name": "stdout",
     "output_type": "stream",
     "text": [
      "[   55.   190.   378.   595.   820.  1035.  1225.  1378.  1485.  1540.\n",
      "  1540.  1485.  1378.  1225.  1035.   820.   595.   378.   190.    55.]\n"
     ]
    }
   ],
   "source": [
    "a = setA()\n",
    "b = np.full(20, 3.0)\n",
    "d = np.diagonal(a)\n",
    "e = np.diagonal(a, offset=1)\n",
    "f = np.diagonal(a, offset=2)\n",
    "d.setflags(write=True)\n",
    "e.setflags(write=True)\n",
    "f.setflags(write=True)\n",
    "d, e, f = LUdecomp5(d, e, f)\n",
    "x = LUsolve5(d, e, f, b)\n",
    "print(x)"
   ]
  },
  {
   "cell_type": "code",
   "execution_count": null,
   "metadata": {
    "collapsed": true
   },
   "outputs": [],
   "source": []
  }
 ],
 "metadata": {
  "kernelspec": {
   "display_name": "Python 3",
   "language": "python",
   "name": "python3"
  },
  "language_info": {
   "codemirror_mode": {
    "name": "ipython",
    "version": 3
   },
   "file_extension": ".py",
   "mimetype": "text/x-python",
   "name": "python",
   "nbconvert_exporter": "python",
   "pygments_lexer": "ipython3",
   "version": "3.6.6"
  }
 },
 "nbformat": 4,
 "nbformat_minor": 2
}
